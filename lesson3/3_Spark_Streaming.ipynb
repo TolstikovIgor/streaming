{
  "cells": [
    {
      "cell_type": "markdown",
      "metadata": {
        "id": "MUXex9ctTuDB"
      },
      "source": [
        "## Setup"
      ]
    },
    {
      "cell_type": "markdown",
      "metadata": {
        "id": "upgCc3gXybsA"
      },
      "source": [
        "### Install the required tensorflow-io and kafka packages"
      ]
    },
    {
      "cell_type": "code",
      "execution_count": null,
      "metadata": {
        "id": "48B9eAMMhAgw",
        "colab": {
          "base_uri": "https://localhost:8080/"
        },
        "outputId": "fc96e328-f641-4627-d718-5d9c81e58cd7"
      },
      "outputs": [
        {
          "output_type": "stream",
          "name": "stdout",
          "text": [
            "Collecting kafka-python\n",
            "  Downloading kafka_python-2.0.2-py2.py3-none-any.whl (246 kB)\n",
            "\u001b[?25l\r\u001b[K     |█▎                              | 10 kB 25.4 MB/s eta 0:00:01\r\u001b[K     |██▋                             | 20 kB 27.5 MB/s eta 0:00:01\r\u001b[K     |████                            | 30 kB 18.5 MB/s eta 0:00:01\r\u001b[K     |█████▎                          | 40 kB 15.6 MB/s eta 0:00:01\r\u001b[K     |██████▋                         | 51 kB 8.1 MB/s eta 0:00:01\r\u001b[K     |████████                        | 61 kB 8.5 MB/s eta 0:00:01\r\u001b[K     |█████████▎                      | 71 kB 8.8 MB/s eta 0:00:01\r\u001b[K     |██████████▋                     | 81 kB 9.8 MB/s eta 0:00:01\r\u001b[K     |████████████                    | 92 kB 10.3 MB/s eta 0:00:01\r\u001b[K     |█████████████▎                  | 102 kB 8.1 MB/s eta 0:00:01\r\u001b[K     |██████████████▋                 | 112 kB 8.1 MB/s eta 0:00:01\r\u001b[K     |████████████████                | 122 kB 8.1 MB/s eta 0:00:01\r\u001b[K     |█████████████████▎              | 133 kB 8.1 MB/s eta 0:00:01\r\u001b[K     |██████████████████▋             | 143 kB 8.1 MB/s eta 0:00:01\r\u001b[K     |████████████████████            | 153 kB 8.1 MB/s eta 0:00:01\r\u001b[K     |█████████████████████▎          | 163 kB 8.1 MB/s eta 0:00:01\r\u001b[K     |██████████████████████▋         | 174 kB 8.1 MB/s eta 0:00:01\r\u001b[K     |████████████████████████        | 184 kB 8.1 MB/s eta 0:00:01\r\u001b[K     |█████████████████████████▎      | 194 kB 8.1 MB/s eta 0:00:01\r\u001b[K     |██████████████████████████▋     | 204 kB 8.1 MB/s eta 0:00:01\r\u001b[K     |████████████████████████████    | 215 kB 8.1 MB/s eta 0:00:01\r\u001b[K     |█████████████████████████████▎  | 225 kB 8.1 MB/s eta 0:00:01\r\u001b[K     |██████████████████████████████▋ | 235 kB 8.1 MB/s eta 0:00:01\r\u001b[K     |████████████████████████████████| 245 kB 8.1 MB/s eta 0:00:01\r\u001b[K     |████████████████████████████████| 246 kB 8.1 MB/s \n",
            "\u001b[?25hCollecting pyspark==3.0.1\n",
            "  Downloading pyspark-3.0.1.tar.gz (204.2 MB)\n",
            "\u001b[K     |████████████████████████████████| 204.2 MB 33 kB/s \n",
            "\u001b[?25hCollecting py4j==0.10.9\n",
            "  Downloading py4j-0.10.9-py2.py3-none-any.whl (198 kB)\n",
            "\u001b[K     |████████████████████████████████| 198 kB 19.4 MB/s \n",
            "\u001b[?25hCollecting findspark\n",
            "  Downloading findspark-1.4.2-py2.py3-none-any.whl (4.2 kB)\n",
            "Building wheels for collected packages: pyspark\n",
            "  Building wheel for pyspark (setup.py) ... \u001b[?25l\u001b[?25hdone\n",
            "  Created wheel for pyspark: filename=pyspark-3.0.1-py2.py3-none-any.whl size=204612246 sha256=bcd1e7ae76b18992ba8f3e52670243eafc1cb3de8fd68eaafe2500251e90f753\n",
            "  Stored in directory: /root/.cache/pip/wheels/5e/34/fa/b37b5cef503fc5148b478b2495043ba61b079120b7ff379f9b\n",
            "Successfully built pyspark\n",
            "Installing collected packages: py4j, pyspark, kafka-python, findspark\n",
            "Successfully installed findspark-1.4.2 kafka-python-2.0.2 py4j-0.10.9 pyspark-3.0.1\n"
          ]
        }
      ],
      "source": [
        "!pip install kafka-python pyspark==3.0.1 py4j==0.10.9 findspark"
      ]
    },
    {
      "cell_type": "markdown",
      "metadata": {
        "id": "gjrZNJQRJP-U"
      },
      "source": [
        "### Import packages"
      ]
    },
    {
      "cell_type": "code",
      "execution_count": null,
      "metadata": {
        "id": "m6KXZuTBWgRm"
      },
      "outputs": [],
      "source": [
        "import os\n",
        "from datetime import datetime\n",
        "import time\n",
        "import threading\n",
        "import json\n",
        "from kafka import KafkaProducer\n",
        "from kafka.errors import KafkaError\n",
        "import pandas as pd"
      ]
    },
    {
      "cell_type": "markdown",
      "metadata": {
        "id": "yZmI7l_GykcW"
      },
      "source": [
        "## Download and setup Kafka and Zookeeper instances\n",
        "\n",
        "For demo purposes, the following instances are setup locally:\n",
        "\n",
        "- Kafka (Brokers: 127.0.0.1:9092)\n",
        "- Zookeeper (Node: 127.0.0.1:2181)\n"
      ]
    },
    {
      "cell_type": "code",
      "execution_count": null,
      "metadata": {
        "id": "YUj0878jPyz7"
      },
      "outputs": [],
      "source": [
        "!curl -sSOL https://downloads.apache.org/kafka/2.7.2/kafka_2.13-2.7.2.tgz\n",
        "!tar -xzf kafka_2.13-2.7.2.tgz"
      ]
    },
    {
      "cell_type": "markdown",
      "metadata": {
        "id": "vAzfu_WiEs4F"
      },
      "source": [
        "Using the default configurations (provided by Apache Kafka) for spinning up the instances."
      ]
    },
    {
      "cell_type": "code",
      "execution_count": null,
      "metadata": {
        "id": "n9ujlunrWgRx",
        "colab": {
          "base_uri": "https://localhost:8080/"
        },
        "outputId": "948b20bd-e3e4-4b2d-de03-3871bf01d11e"
      },
      "outputs": [
        {
          "output_type": "stream",
          "name": "stdout",
          "text": [
            "Waiting for 10 secs until kafka and zookeeper services are up and running\n"
          ]
        }
      ],
      "source": [
        "!./kafka_2.13-2.7.2/bin/zookeeper-server-start.sh -daemon ./kafka_2.13-2.7.2/config/zookeeper.properties\n",
        "!./kafka_2.13-2.7.2/bin/kafka-server-start.sh -daemon ./kafka_2.13-2.7.2/config/server.properties\n",
        "!echo \"Waiting for 10 secs until kafka and zookeeper services are up and running\"\n",
        "!sleep 10\n"
      ]
    },
    {
      "cell_type": "markdown",
      "metadata": {
        "id": "f6qxCdypE1DD"
      },
      "source": [
        "Once the instances are started as daemon processes, grep for `kafka` in the processes list. The two java processes correspond to zookeeper and the kafka instances."
      ]
    },
    {
      "cell_type": "code",
      "execution_count": null,
      "metadata": {
        "id": "48LqMJ1BEHm5",
        "colab": {
          "base_uri": "https://localhost:8080/"
        },
        "outputId": "96ce96f1-4a1d-4fd5-c969-9cd17ba8daa7"
      },
      "outputs": [
        {
          "output_type": "stream",
          "name": "stdout",
          "text": [
            "root         481       1  1 17:10 ?        00:00:01 java -Xmx512M -Xms512M -server -XX:+UseG1GC -XX:MaxGCPauseMillis=20 -XX:InitiatingHeapOccupancyPercent=35 -XX:+ExplicitGCInvokesConcurrent -XX:MaxInlineLevel=15 -Djava.awt.headless=true -Xlog:gc*:file=/content/kafka_2.13-2.7.2/bin/../logs/zookeeper-gc.log:time,tags:filecount=10,filesize=100M -Dcom.sun.management.jmxremote -Dcom.sun.management.jmxremote.authenticate=false -Dcom.sun.management.jmxremote.ssl=false -Dkafka.logs.dir=/content/kafka_2.13-2.7.2/bin/../logs -Dlog4j.configuration=file:./kafka_2.13-2.7.2/bin/../config/log4j.properties -cp /content/kafka_2.13-2.7.2/bin/../libs/activation-1.1.1.jar:/content/kafka_2.13-2.7.2/bin/../libs/aopalliance-repackaged-2.6.1.jar:/content/kafka_2.13-2.7.2/bin/../libs/argparse4j-0.7.0.jar:/content/kafka_2.13-2.7.2/bin/../libs/audience-annotations-0.5.0.jar:/content/kafka_2.13-2.7.2/bin/../libs/commons-cli-1.4.jar:/content/kafka_2.13-2.7.2/bin/../libs/commons-lang3-3.8.1.jar:/content/kafka_2.13-2.7.2/bin/../libs/connect-api-2.7.2.jar:/content/kafka_2.13-2.7.2/bin/../libs/connect-basic-auth-extension-2.7.2.jar:/content/kafka_2.13-2.7.2/bin/../libs/connect-file-2.7.2.jar:/content/kafka_2.13-2.7.2/bin/../libs/connect-json-2.7.2.jar:/content/kafka_2.13-2.7.2/bin/../libs/connect-mirror-2.7.2.jar:/content/kafka_2.13-2.7.2/bin/../libs/connect-mirror-client-2.7.2.jar:/content/kafka_2.13-2.7.2/bin/../libs/connect-runtime-2.7.2.jar:/content/kafka_2.13-2.7.2/bin/../libs/connect-transforms-2.7.2.jar:/content/kafka_2.13-2.7.2/bin/../libs/hk2-api-2.6.1.jar:/content/kafka_2.13-2.7.2/bin/../libs/hk2-locator-2.6.1.jar:/content/kafka_2.13-2.7.2/bin/../libs/hk2-utils-2.6.1.jar:/content/kafka_2.13-2.7.2/bin/../libs/jackson-annotations-2.10.5.jar:/content/kafka_2.13-2.7.2/bin/../libs/jackson-core-2.10.5.jar:/content/kafka_2.13-2.7.2/bin/../libs/jackson-databind-2.10.5.1.jar:/content/kafka_2.13-2.7.2/bin/../libs/jackson-dataformat-csv-2.10.5.jar:/content/kafka_2.13-2.7.2/bin/../libs/jackson-datatype-jdk8-2.10.5.jar:/content/kafka_2.13-2.7.2/bin/../libs/jackson-jaxrs-base-2.10.5.jar:/content/kafka_2.13-2.7.2/bin/../libs/jackson-jaxrs-json-provider-2.10.5.jar:/content/kafka_2.13-2.7.2/bin/../libs/jackson-module-jaxb-annotations-2.10.5.jar:/content/kafka_2.13-2.7.2/bin/../libs/jackson-module-paranamer-2.10.5.jar:/content/kafka_2.13-2.7.2/bin/../libs/jackson-module-scala_2.13-2.10.5.jar:/content/kafka_2.13-2.7.2/bin/../libs/jakarta.activation-api-1.2.1.jar:/content/kafka_2.13-2.7.2/bin/../libs/jakarta.annotation-api-1.3.5.jar:/content/kafka_2.13-2.7.2/bin/../libs/jakarta.inject-2.6.1.jar:/content/kafka_2.13-2.7.2/bin/../libs/jakarta.validation-api-2.0.2.jar:/content/kafka_2.13-2.7.2/bin/../libs/jakarta.ws.rs-api-2.1.6.jar:/content/kafka_2.13-2.7.2/bin/../libs/jakarta.xml.bind-api-2.3.2.jar:/content/kafka_2.13-2.7.2/bin/../libs/javassist-3.25.0-GA.jar:/content/kafka_2.13-2.7.2/bin/../libs/javassist-3.26.0-GA.jar:/content/kafka_2.13-2.7.2/bin/../libs/javax.servlet-api-3.1.0.jar:/content/kafka_2.13-2.7.2/bin/../libs/javax.ws.rs-api-2.1.1.jar:/content/kafka_2.13-2.7.2/bin/../libs/jaxb-api-2.3.0.jar:/content/kafka_2.13-2.7.2/bin/../libs/jersey-client-2.34.jar:/content/kafka_2.13-2.7.2/bin/../libs/jersey-common-2.34.jar:/content/kafka_2.13-2.7.2/bin/../libs/jersey-container-servlet-2.34.jar:/content/kafka_2.13-2.7.2/bin/../libs/jersey-container-servlet-core-2.34.jar:/content/kafka_2.13-2.7.2/bin/../libs/jersey-hk2-2.34.jar:/content/kafka_2.13-2.7.2/bin/../libs/jersey-server-2.34.jar:/content/kafka_2.13-2.7.2/bin/../libs/jetty-client-9.4.43.v20210629.jar:/content/kafka_2.13-2.7.2/bin/../libs/jetty-continuation-9.4.43.v20210629.jar:/content/kafka_2.13-2.7.2/bin/../libs/jetty-http-9.4.43.v20210629.jar:/content/kafka_2.13-2.7.2/bin/../libs/jetty-io-9.4.43.v20210629.jar:/content/kafka_2.13-2.7.2/bin/../libs/jetty-security-9.4.43.v20210629.jar:/content/kafka_2.13-2.7.2/bin/../libs/jetty-server-9.4.43.v20210629.jar:/content/kafka_2.13-2.7.2/bin/../libs/jetty-servlet-9.4.43.v20210629.jar:/content/kafka_2.13-2.7.2/bin/../libs/jetty-servlets-9.4.43.v20210629.jar:/content/kafka_2.13-2.7.2/bin/../libs/jetty-util-9.4.43.v20210629.jar:/content/kafka_2.13-2.7.2/bin/../libs/jetty-util-ajax-9.4.43.v20210629.jar:/content/kafka_2.13-2.7.2/bin/../libs/jopt-simple-5.0.4.jar:/content/kafka_2.13-2.7.2/bin/../libs/kafka_2.13-2.7.2.jar:/content/kafka_2.13-2.7.2/bin/../libs/kafka_2.13-2.7.2-sources.jar:/content/kafka_2.13-2.7.2/bin/../libs/kafka-clients-2.7.2.jar:/content/kafka_2.13-2.7.2/bin/../libs/kafka-log4j-appender-2.7.2.jar:/content/kafka_2.13-2.7.2/bin/../libs/kafka-raft-2.7.2.jar:/content/kafka_2.13-2.7.2/bin/../libs/kafka-streams-2.7.2.jar:/content/kafka_2.13-2.7.2/bin/../libs/kafka-streams-examples-2.7.2.jar:/content/kafka_2.13-2.7.2/bin/../libs/kafka-streams-scala_2.13-2.7.2.jar:/content/kafka_2.13-2.7.2/bin/../libs/kafka-streams-test-utils-2.7.2.jar:/content/kafka_2.13-2.7.2/bin/../libs/kafka-tools-2.7.2.jar:/content/kafka_2.13-2.7.2/bin/../libs/log4j-1.2.17.jar:/content/kafka_2.13-2.7.2/bin/../libs/lz4-java-1.7.1.jar:/content/kafka_2.13-2.7.2/bin/../libs/maven-artifact-3.8.1.jar:/content/kafka_2.13-2.7.2/bin/../libs/metrics-core-2.2.0.jar:/content/kafka_2.13-2.7.2/bin/../libs/netty-buffer-4.1.59.Final.jar:/content/kafka_2.13-2.7.2/bin/../libs/netty-codec-4.1.59.Final.jar:/content/kafka_2.13-2.7.2/bin/../libs/netty-common-4.1.59.Final.jar:/content/kafka_2.13-2.7.2/bin/../libs/netty-handler-4.1.59.Final.jar:/content/kafka_2.13-2.7.2/bin/../libs/netty-resolver-4.1.59.Final.jar:/content/kafka_2.13-2.7.2/bin/../libs/netty-transport-4.1.59.Final.jar:/content/kafka_2.13-2.7.2/bin/../libs/netty-transport-native-epoll-4.1.59.Final.jar:/content/kafka_2.13-2.7.2/bin/../libs/netty-transport-native-unix-common-4.1.59.Final.jar:/content/kafka_2.13-2.7.2/bin/../libs/osgi-resource-locator-1.0.3.jar:/content/kafka_2.13-2.7.2/bin/../libs/paranamer-2.8.jar:/content/kafka_2.13-2.7.2/bin/../libs/plexus-utils-3.2.1.jar:/content/kafka_2.13-2.7.2/bin/../libs/reflections-0.9.12.jar:/content/kafka_2.13-2.7.2/bin/../libs/rocksdbjni-5.18.4.jar:/content/kafka_2.13-2.7.2/bin/../libs/scala-collection-compat_2.13-2.2.0.jar:/content/kafka_2.13-2.7.2/bin/../libs/scala-java8-compat_2.13-0.9.1.jar:/content/kafka_2.13-2.7.2/bin/../libs/scala-library-2.13.3.jar:/content/kafka_2.13-2.7.2/bin/../libs/scala-logging_2.13-3.9.2.jar:/content/kafka_2.13-2.7.2/bin/../libs/scala-reflect-2.13.3.jar:/content/kafka_2.13-2.7.2/bin/../libs/slf4j-api-1.7.30.jar:/content/kafka_2.13-2.7.2/bin/../libs/slf4j-log4j12-1.7.30.jar:/content/kafka_2.13-2.7.2/bin/../libs/snappy-java-1.1.7.7.jar:/content/kafka_2.13-2.7.2/bin/../libs/zookeeper-3.5.9.jar:/content/kafka_2.13-2.7.2/bin/../libs/zookeeper-jute-3.5.9.jar:/content/kafka_2.13-2.7.2/bin/../libs/zstd-jni-1.4.5-6.jar org.apache.zookeeper.server.quorum.QuorumPeerMain ./kafka_2.13-2.7.2/config/zookeeper.properties\n",
            "root         837       1  4 17:10 ?        00:00:06 java -Xmx1G -Xms1G -server -XX:+UseG1GC -XX:MaxGCPauseMillis=20 -XX:InitiatingHeapOccupancyPercent=35 -XX:+ExplicitGCInvokesConcurrent -XX:MaxInlineLevel=15 -Djava.awt.headless=true -Xlog:gc*:file=/content/kafka_2.13-2.7.2/bin/../logs/kafkaServer-gc.log:time,tags:filecount=10,filesize=100M -Dcom.sun.management.jmxremote -Dcom.sun.management.jmxremote.authenticate=false -Dcom.sun.management.jmxremote.ssl=false -Dkafka.logs.dir=/content/kafka_2.13-2.7.2/bin/../logs -Dlog4j.configuration=file:./kafka_2.13-2.7.2/bin/../config/log4j.properties -cp /content/kafka_2.13-2.7.2/bin/../libs/activation-1.1.1.jar:/content/kafka_2.13-2.7.2/bin/../libs/aopalliance-repackaged-2.6.1.jar:/content/kafka_2.13-2.7.2/bin/../libs/argparse4j-0.7.0.jar:/content/kafka_2.13-2.7.2/bin/../libs/audience-annotations-0.5.0.jar:/content/kafka_2.13-2.7.2/bin/../libs/commons-cli-1.4.jar:/content/kafka_2.13-2.7.2/bin/../libs/commons-lang3-3.8.1.jar:/content/kafka_2.13-2.7.2/bin/../libs/connect-api-2.7.2.jar:/content/kafka_2.13-2.7.2/bin/../libs/connect-basic-auth-extension-2.7.2.jar:/content/kafka_2.13-2.7.2/bin/../libs/connect-file-2.7.2.jar:/content/kafka_2.13-2.7.2/bin/../libs/connect-json-2.7.2.jar:/content/kafka_2.13-2.7.2/bin/../libs/connect-mirror-2.7.2.jar:/content/kafka_2.13-2.7.2/bin/../libs/connect-mirror-client-2.7.2.jar:/content/kafka_2.13-2.7.2/bin/../libs/connect-runtime-2.7.2.jar:/content/kafka_2.13-2.7.2/bin/../libs/connect-transforms-2.7.2.jar:/content/kafka_2.13-2.7.2/bin/../libs/hk2-api-2.6.1.jar:/content/kafka_2.13-2.7.2/bin/../libs/hk2-locator-2.6.1.jar:/content/kafka_2.13-2.7.2/bin/../libs/hk2-utils-2.6.1.jar:/content/kafka_2.13-2.7.2/bin/../libs/jackson-annotations-2.10.5.jar:/content/kafka_2.13-2.7.2/bin/../libs/jackson-core-2.10.5.jar:/content/kafka_2.13-2.7.2/bin/../libs/jackson-databind-2.10.5.1.jar:/content/kafka_2.13-2.7.2/bin/../libs/jackson-dataformat-csv-2.10.5.jar:/content/kafka_2.13-2.7.2/bin/../libs/jackson-datatype-jdk8-2.10.5.jar:/content/kafka_2.13-2.7.2/bin/../libs/jackson-jaxrs-base-2.10.5.jar:/content/kafka_2.13-2.7.2/bin/../libs/jackson-jaxrs-json-provider-2.10.5.jar:/content/kafka_2.13-2.7.2/bin/../libs/jackson-module-jaxb-annotations-2.10.5.jar:/content/kafka_2.13-2.7.2/bin/../libs/jackson-module-paranamer-2.10.5.jar:/content/kafka_2.13-2.7.2/bin/../libs/jackson-module-scala_2.13-2.10.5.jar:/content/kafka_2.13-2.7.2/bin/../libs/jakarta.activation-api-1.2.1.jar:/content/kafka_2.13-2.7.2/bin/../libs/jakarta.annotation-api-1.3.5.jar:/content/kafka_2.13-2.7.2/bin/../libs/jakarta.inject-2.6.1.jar:/content/kafka_2.13-2.7.2/bin/../libs/jakarta.validation-api-2.0.2.jar:/content/kafka_2.13-2.7.2/bin/../libs/jakarta.ws.rs-api-2.1.6.jar:/content/kafka_2.13-2.7.2/bin/../libs/jakarta.xml.bind-api-2.3.2.jar:/content/kafka_2.13-2.7.2/bin/../libs/javassist-3.25.0-GA.jar:/content/kafka_2.13-2.7.2/bin/../libs/javassist-3.26.0-GA.jar:/content/kafka_2.13-2.7.2/bin/../libs/javax.servlet-api-3.1.0.jar:/content/kafka_2.13-2.7.2/bin/../libs/javax.ws.rs-api-2.1.1.jar:/content/kafka_2.13-2.7.2/bin/../libs/jaxb-api-2.3.0.jar:/content/kafka_2.13-2.7.2/bin/../libs/jersey-client-2.34.jar:/content/kafka_2.13-2.7.2/bin/../libs/jersey-common-2.34.jar:/content/kafka_2.13-2.7.2/bin/../libs/jersey-container-servlet-2.34.jar:/content/kafka_2.13-2.7.2/bin/../libs/jersey-container-servlet-core-2.34.jar:/content/kafka_2.13-2.7.2/bin/../libs/jersey-hk2-2.34.jar:/content/kafka_2.13-2.7.2/bin/../libs/jersey-server-2.34.jar:/content/kafka_2.13-2.7.2/bin/../libs/jetty-client-9.4.43.v20210629.jar:/content/kafka_2.13-2.7.2/bin/../libs/jetty-continuation-9.4.43.v20210629.jar:/content/kafka_2.13-2.7.2/bin/../libs/jetty-http-9.4.43.v20210629.jar:/content/kafka_2.13-2.7.2/bin/../libs/jetty-io-9.4.43.v20210629.jar:/content/kafka_2.13-2.7.2/bin/../libs/jetty-security-9.4.43.v20210629.jar:/content/kafka_2.13-2.7.2/bin/../libs/jetty-server-9.4.43.v20210629.jar:/content/kafka_2.13-2.7.2/bin/../libs/jetty-servlet-9.4.43.v20210629.jar:/content/kafka_2.13-2.7.2/bin/../libs/jetty-servlets-9.4.43.v20210629.jar:/content/kafka_2.13-2.7.2/bin/../libs/jetty-util-9.4.43.v20210629.jar:/content/kafka_2.13-2.7.2/bin/../libs/jetty-util-ajax-9.4.43.v20210629.jar:/content/kafka_2.13-2.7.2/bin/../libs/jopt-simple-5.0.4.jar:/content/kafka_2.13-2.7.2/bin/../libs/kafka_2.13-2.7.2.jar:/content/kafka_2.13-2.7.2/bin/../libs/kafka_2.13-2.7.2-sources.jar:/content/kafka_2.13-2.7.2/bin/../libs/kafka-clients-2.7.2.jar:/content/kafka_2.13-2.7.2/bin/../libs/kafka-log4j-appender-2.7.2.jar:/content/kafka_2.13-2.7.2/bin/../libs/kafka-raft-2.7.2.jar:/content/kafka_2.13-2.7.2/bin/../libs/kafka-streams-2.7.2.jar:/content/kafka_2.13-2.7.2/bin/../libs/kafka-streams-examples-2.7.2.jar:/content/kafka_2.13-2.7.2/bin/../libs/kafka-streams-scala_2.13-2.7.2.jar:/content/kafka_2.13-2.7.2/bin/../libs/kafka-streams-test-utils-2.7.2.jar:/content/kafka_2.13-2.7.2/bin/../libs/kafka-tools-2.7.2.jar:/content/kafka_2.13-2.7.2/bin/../libs/log4j-1.2.17.jar:/content/kafka_2.13-2.7.2/bin/../libs/lz4-java-1.7.1.jar:/content/kafka_2.13-2.7.2/bin/../libs/maven-artifact-3.8.1.jar:/content/kafka_2.13-2.7.2/bin/../libs/metrics-core-2.2.0.jar:/content/kafka_2.13-2.7.2/bin/../libs/netty-buffer-4.1.59.Final.jar:/content/kafka_2.13-2.7.2/bin/../libs/netty-codec-4.1.59.Final.jar:/content/kafka_2.13-2.7.2/bin/../libs/netty-common-4.1.59.Final.jar:/content/kafka_2.13-2.7.2/bin/../libs/netty-handler-4.1.59.Final.jar:/content/kafka_2.13-2.7.2/bin/../libs/netty-resolver-4.1.59.Final.jar:/content/kafka_2.13-2.7.2/bin/../libs/netty-transport-4.1.59.Final.jar:/content/kafka_2.13-2.7.2/bin/../libs/netty-transport-native-epoll-4.1.59.Final.jar:/content/kafka_2.13-2.7.2/bin/../libs/netty-transport-native-unix-common-4.1.59.Final.jar:/content/kafka_2.13-2.7.2/bin/../libs/osgi-resource-locator-1.0.3.jar:/content/kafka_2.13-2.7.2/bin/../libs/paranamer-2.8.jar:/content/kafka_2.13-2.7.2/bin/../libs/plexus-utils-3.2.1.jar:/content/kafka_2.13-2.7.2/bin/../libs/reflections-0.9.12.jar:/content/kafka_2.13-2.7.2/bin/../libs/rocksdbjni-5.18.4.jar:/content/kafka_2.13-2.7.2/bin/../libs/scala-collection-compat_2.13-2.2.0.jar:/content/kafka_2.13-2.7.2/bin/../libs/scala-java8-compat_2.13-0.9.1.jar:/content/kafka_2.13-2.7.2/bin/../libs/scala-library-2.13.3.jar:/content/kafka_2.13-2.7.2/bin/../libs/scala-logging_2.13-3.9.2.jar:/content/kafka_2.13-2.7.2/bin/../libs/scala-reflect-2.13.3.jar:/content/kafka_2.13-2.7.2/bin/../libs/slf4j-api-1.7.30.jar:/content/kafka_2.13-2.7.2/bin/../libs/slf4j-log4j12-1.7.30.jar:/content/kafka_2.13-2.7.2/bin/../libs/snappy-java-1.1.7.7.jar:/content/kafka_2.13-2.7.2/bin/../libs/zookeeper-3.5.9.jar:/content/kafka_2.13-2.7.2/bin/../libs/zookeeper-jute-3.5.9.jar:/content/kafka_2.13-2.7.2/bin/../libs/zstd-jni-1.4.5-6.jar kafka.Kafka ./kafka_2.13-2.7.2/config/server.properties\n",
            "root         946      59  0 17:12 ?        00:00:00 /bin/bash -c ps -ef | grep kafka\n",
            "root         948     946  0 17:12 ?        00:00:00 grep kafka\n"
          ]
        }
      ],
      "source": [
        "!ps -ef | grep kafka"
      ]
    },
    {
      "cell_type": "code",
      "source": [
        "!./kafka_2.13-2.7.2/bin/kafka-topics.sh --list --bootstrap-server 127.0.0.1:9092"
      ],
      "metadata": {
        "id": "jNmrLFgOix3x",
        "colab": {
          "base_uri": "https://localhost:8080/"
        },
        "outputId": "0132b450-74f3-4a34-aec3-03a166095eaf"
      },
      "execution_count": null,
      "outputs": [
        {
          "output_type": "stream",
          "name": "stdout",
          "text": [
            "\n"
          ]
        }
      ]
    },
    {
      "cell_type": "code",
      "execution_count": null,
      "metadata": {
        "id": "lXJWqMmWnPyP",
        "colab": {
          "base_uri": "https://localhost:8080/"
        },
        "outputId": "2733fb8a-04f7-43ef-8ac3-6cb9f25ff9e2"
      },
      "outputs": [
        {
          "output_type": "stream",
          "name": "stdout",
          "text": [
            "Created topic shadrin-iris.\n"
          ]
        }
      ],
      "source": [
        "!./kafka_2.13-2.7.2/bin/kafka-topics.sh --create --bootstrap-server 127.0.0.1:9092 --replication-factor 1 --partitions 1 --topic shadrin-iris\n"
      ]
    },
    {
      "cell_type": "markdown",
      "metadata": {
        "id": "kNxf_NqjnycC"
      },
      "source": [
        "Describe the topic for details on the configuration"
      ]
    },
    {
      "cell_type": "code",
      "execution_count": null,
      "metadata": {
        "id": "apCf9pfVnwn7",
        "colab": {
          "base_uri": "https://localhost:8080/"
        },
        "outputId": "201e099f-a500-4ed8-fd43-eaccc46877e5"
      },
      "outputs": [
        {
          "output_type": "stream",
          "name": "stdout",
          "text": [
            "Topic: shadrin-iris\tPartitionCount: 1\tReplicationFactor: 1\tConfigs: segment.bytes=1073741824\n",
            "\tTopic: shadrin-iris\tPartition: 0\tLeader: 0\tReplicas: 0\tIsr: 0\n"
          ]
        }
      ],
      "source": [
        "!./kafka_2.13-2.7.2/bin/kafka-topics.sh --describe --bootstrap-server 127.0.0.1:9092 --topic shadrin-iris\n"
      ]
    },
    {
      "cell_type": "markdown",
      "metadata": {
        "id": "jKVnz3Pjot9t"
      },
      "source": [
        "The replication factor 1 indicates that the data is not being replicated. This is due to the presence of a single broker in our kafka setup.\n",
        "In production systems, the number of bootstrap servers can be in the range of 100's of nodes. That is where the fault-tolerance using replication comes into picture.\n",
        "\n",
        "Please refer to the [docs](https://kafka.apache.org/documentation/#replication) for more details.\n"
      ]
    },
    {
      "cell_type": "markdown",
      "source": [
        "## Insert data into Kafka"
      ],
      "metadata": {
        "id": "2RmbmW_Pk8y_"
      }
    },
    {
      "cell_type": "code",
      "source": [
        "COLUMNS = [\n",
        "           'sepalLength',\n",
        "           'sepalWidth',\n",
        "           'petalLength',\n",
        "           'petalWidth',\n",
        "           'species'\n",
        "           ]"
      ],
      "metadata": {
        "id": "cmvRVOpelgvG"
      },
      "execution_count": null,
      "outputs": []
    },
    {
      "cell_type": "code",
      "source": [
        "def error_callback(exc):\n",
        "    raise Exception('Error while sendig data to kafka: {0}'.format(str(exc)))\n",
        "\n",
        "def write_to_kafka(topic_name, items):\n",
        "  count=0\n",
        "  producer = KafkaProducer(bootstrap_servers=['127.0.0.1:9092'])\n",
        "  for message, key in items:\n",
        "    producer.send(topic_name, key=key.encode('utf-8'), value=message.encode('utf-8')).add_errback(error_callback)\n",
        "    count+=1\n",
        "  producer.flush()\n",
        "  print(\"Wrote {0} messages into topic: {1}\".format(count, topic_name))"
      ],
      "metadata": {
        "id": "pQ1EmLy5k7wJ"
      },
      "execution_count": null,
      "outputs": []
    },
    {
      "cell_type": "code",
      "source": [
        "from bson import json_util\n",
        "#data = pd.read_json('iris.json')\n",
        "\n",
        "producer = KafkaProducer(bootstrap_servers=['127.0.0.1:9092'])\n",
        "i = 0\n",
        "with open('iris.json') as f:\n",
        "  for row in json.load(f):\n",
        "    producer.send('shadrin-iris', key=str(i).encode('utf-8'), value=str(row).encode('utf-8')).add_errback(error_callback)\n",
        "    i=i+1"
      ],
      "metadata": {
        "id": "e2cjXGf-nzYB"
      },
      "execution_count": null,
      "outputs": []
    },
    {
      "cell_type": "code",
      "source": [
        "!./kafka_2.13-2.7.2/bin/kafka-console-producer.sh --broker-list 127.0.0.1:9092 --topic shadrin-iris << iris.json\n"
      ],
      "metadata": {
        "id": "dObMvZ0exyjV"
      },
      "execution_count": null,
      "outputs": []
    },
    {
      "cell_type": "code",
      "source": [
        "!./kafka_2.13-2.7.2/bin/kafka-console-consumer.sh --bootstrap-server 127.0.0.1:9092 --topic shadrin-iris --from-beginning"
      ],
      "metadata": {
        "id": "C_J610Qkylk8",
        "colab": {
          "base_uri": "https://localhost:8080/"
        },
        "outputId": "f1b98559-8668-441d-818c-ed058bc59f72"
      },
      "execution_count": null,
      "outputs": [
        {
          "output_type": "stream",
          "name": "stdout",
          "text": [
            "{'sepalLength': 5.1, 'sepalWidth': 3.5, 'petalLength': 1.4, 'petalWidth': 0.2, 'species': 'setosa'}\n",
            "{'sepalLength': 4.9, 'sepalWidth': 3.0, 'petalLength': 1.4, 'petalWidth': 0.2, 'species': 'setosa'}\n",
            "{'sepalLength': 4.7, 'sepalWidth': 3.2, 'petalLength': 1.3, 'petalWidth': 0.2, 'species': 'setosa'}\n",
            "{'sepalLength': 4.6, 'sepalWidth': 3.1, 'petalLength': 1.5, 'petalWidth': 0.2, 'species': 'setosa'}\n",
            "{'sepalLength': 5.0, 'sepalWidth': 3.6, 'petalLength': 1.4, 'petalWidth': 0.2, 'species': 'setosa'}\n",
            "{'sepalLength': 5.4, 'sepalWidth': 3.9, 'petalLength': 1.7, 'petalWidth': 0.4, 'species': 'setosa'}\n",
            "{'sepalLength': 4.6, 'sepalWidth': 3.4, 'petalLength': 1.4, 'petalWidth': 0.3, 'species': 'setosa'}\n",
            "{'sepalLength': 5.0, 'sepalWidth': 3.4, 'petalLength': 1.5, 'petalWidth': 0.2, 'species': 'setosa'}\n",
            "{'sepalLength': 4.4, 'sepalWidth': 2.9, 'petalLength': 1.4, 'petalWidth': 0.2, 'species': 'setosa'}\n",
            "{'sepalLength': 4.9, 'sepalWidth': 3.1, 'petalLength': 1.5, 'petalWidth': 0.1, 'species': 'setosa'}\n",
            "{'sepalLength': 5.4, 'sepalWidth': 3.7, 'petalLength': 1.5, 'petalWidth': 0.2, 'species': 'setosa'}\n",
            "{'sepalLength': 4.8, 'sepalWidth': 3.4, 'petalLength': 1.6, 'petalWidth': 0.2, 'species': 'setosa'}\n",
            "{'sepalLength': 4.8, 'sepalWidth': 3.0, 'petalLength': 1.4, 'petalWidth': 0.1, 'species': 'setosa'}\n",
            "{'sepalLength': 4.3, 'sepalWidth': 3.0, 'petalLength': 1.1, 'petalWidth': 0.1, 'species': 'setosa'}\n",
            "{'sepalLength': 5.8, 'sepalWidth': 4.0, 'petalLength': 1.2, 'petalWidth': 0.2, 'species': 'setosa'}\n",
            "{'sepalLength': 5.7, 'sepalWidth': 4.4, 'petalLength': 1.5, 'petalWidth': 0.4, 'species': 'setosa'}\n",
            "{'sepalLength': 5.4, 'sepalWidth': 3.9, 'petalLength': 1.3, 'petalWidth': 0.4, 'species': 'setosa'}\n",
            "{'sepalLength': 5.1, 'sepalWidth': 3.5, 'petalLength': 1.4, 'petalWidth': 0.3, 'species': 'setosa'}\n",
            "{'sepalLength': 5.7, 'sepalWidth': 3.8, 'petalLength': 1.7, 'petalWidth': 0.3, 'species': 'setosa'}\n",
            "{'sepalLength': 5.1, 'sepalWidth': 3.8, 'petalLength': 1.5, 'petalWidth': 0.3, 'species': 'setosa'}\n",
            "{'sepalLength': 5.4, 'sepalWidth': 3.4, 'petalLength': 1.7, 'petalWidth': 0.2, 'species': 'setosa'}\n",
            "{'sepalLength': 5.1, 'sepalWidth': 3.7, 'petalLength': 1.5, 'petalWidth': 0.4, 'species': 'setosa'}\n",
            "{'sepalLength': 4.6, 'sepalWidth': 3.6, 'petalLength': 1.0, 'petalWidth': 0.2, 'species': 'setosa'}\n",
            "{'sepalLength': 5.1, 'sepalWidth': 3.3, 'petalLength': 1.7, 'petalWidth': 0.5, 'species': 'setosa'}\n",
            "{'sepalLength': 4.8, 'sepalWidth': 3.4, 'petalLength': 1.9, 'petalWidth': 0.2, 'species': 'setosa'}\n",
            "{'sepalLength': 5.0, 'sepalWidth': 3.0, 'petalLength': 1.6, 'petalWidth': 0.2, 'species': 'setosa'}\n",
            "{'sepalLength': 5.0, 'sepalWidth': 3.4, 'petalLength': 1.6, 'petalWidth': 0.4, 'species': 'setosa'}\n",
            "{'sepalLength': 5.2, 'sepalWidth': 3.5, 'petalLength': 1.5, 'petalWidth': 0.2, 'species': 'setosa'}\n",
            "{'sepalLength': 5.2, 'sepalWidth': 3.4, 'petalLength': 1.4, 'petalWidth': 0.2, 'species': 'setosa'}\n",
            "{'sepalLength': 4.7, 'sepalWidth': 3.2, 'petalLength': 1.6, 'petalWidth': 0.2, 'species': 'setosa'}\n",
            "{'sepalLength': 4.8, 'sepalWidth': 3.1, 'petalLength': 1.6, 'petalWidth': 0.2, 'species': 'setosa'}\n",
            "{'sepalLength': 5.4, 'sepalWidth': 3.4, 'petalLength': 1.5, 'petalWidth': 0.4, 'species': 'setosa'}\n",
            "{'sepalLength': 5.2, 'sepalWidth': 4.1, 'petalLength': 1.5, 'petalWidth': 0.1, 'species': 'setosa'}\n",
            "{'sepalLength': 5.5, 'sepalWidth': 4.2, 'petalLength': 1.4, 'petalWidth': 0.2, 'species': 'setosa'}\n",
            "{'sepalLength': 4.9, 'sepalWidth': 3.1, 'petalLength': 1.5, 'petalWidth': 0.2, 'species': 'setosa'}\n",
            "{'sepalLength': 5.0, 'sepalWidth': 3.2, 'petalLength': 1.2, 'petalWidth': 0.2, 'species': 'setosa'}\n",
            "{'sepalLength': 5.5, 'sepalWidth': 3.5, 'petalLength': 1.3, 'petalWidth': 0.2, 'species': 'setosa'}\n",
            "{'sepalLength': 4.9, 'sepalWidth': 3.6, 'petalLength': 1.4, 'petalWidth': 0.1, 'species': 'setosa'}\n",
            "{'sepalLength': 4.4, 'sepalWidth': 3.0, 'petalLength': 1.3, 'petalWidth': 0.2, 'species': 'setosa'}\n",
            "{'sepalLength': 5.1, 'sepalWidth': 3.4, 'petalLength': 1.5, 'petalWidth': 0.2, 'species': 'setosa'}\n",
            "{'sepalLength': 5.0, 'sepalWidth': 3.5, 'petalLength': 1.3, 'petalWidth': 0.3, 'species': 'setosa'}\n",
            "{'sepalLength': 4.5, 'sepalWidth': 2.3, 'petalLength': 1.3, 'petalWidth': 0.3, 'species': 'setosa'}\n",
            "{'sepalLength': 4.4, 'sepalWidth': 3.2, 'petalLength': 1.3, 'petalWidth': 0.2, 'species': 'setosa'}\n",
            "{'sepalLength': 5.0, 'sepalWidth': 3.5, 'petalLength': 1.6, 'petalWidth': 0.6, 'species': 'setosa'}\n",
            "{'sepalLength': 5.1, 'sepalWidth': 3.8, 'petalLength': 1.9, 'petalWidth': 0.4, 'species': 'setosa'}\n",
            "{'sepalLength': 4.8, 'sepalWidth': 3.0, 'petalLength': 1.4, 'petalWidth': 0.3, 'species': 'setosa'}\n",
            "{'sepalLength': 5.1, 'sepalWidth': 3.8, 'petalLength': 1.6, 'petalWidth': 0.2, 'species': 'setosa'}\n",
            "{'sepalLength': 4.6, 'sepalWidth': 3.2, 'petalLength': 1.4, 'petalWidth': 0.2, 'species': 'setosa'}\n",
            "{'sepalLength': 5.3, 'sepalWidth': 3.7, 'petalLength': 1.5, 'petalWidth': 0.2, 'species': 'setosa'}\n",
            "{'sepalLength': 5.0, 'sepalWidth': 3.3, 'petalLength': 1.4, 'petalWidth': 0.2, 'species': 'setosa'}\n",
            "{'sepalLength': 7.0, 'sepalWidth': 3.2, 'petalLength': 4.7, 'petalWidth': 1.4, 'species': 'versicolor'}\n",
            "{'sepalLength': 6.4, 'sepalWidth': 3.2, 'petalLength': 4.5, 'petalWidth': 1.5, 'species': 'versicolor'}\n",
            "{'sepalLength': 6.9, 'sepalWidth': 3.1, 'petalLength': 4.9, 'petalWidth': 1.5, 'species': 'versicolor'}\n",
            "{'sepalLength': 5.5, 'sepalWidth': 2.3, 'petalLength': 4.0, 'petalWidth': 1.3, 'species': 'versicolor'}\n",
            "{'sepalLength': 6.5, 'sepalWidth': 2.8, 'petalLength': 4.6, 'petalWidth': 1.5, 'species': 'versicolor'}\n",
            "{'sepalLength': 5.7, 'sepalWidth': 2.8, 'petalLength': 4.5, 'petalWidth': 1.3, 'species': 'versicolor'}\n",
            "{'sepalLength': 6.3, 'sepalWidth': 3.3, 'petalLength': 4.7, 'petalWidth': 1.6, 'species': 'versicolor'}\n",
            "{'sepalLength': 4.9, 'sepalWidth': 2.4, 'petalLength': 3.3, 'petalWidth': 1.0, 'species': 'versicolor'}\n",
            "{'sepalLength': 6.6, 'sepalWidth': 2.9, 'petalLength': 4.6, 'petalWidth': 1.3, 'species': 'versicolor'}\n",
            "{'sepalLength': 5.2, 'sepalWidth': 2.7, 'petalLength': 3.9, 'petalWidth': 1.4, 'species': 'versicolor'}\n",
            "{'sepalLength': 5.0, 'sepalWidth': 2.0, 'petalLength': 3.5, 'petalWidth': 1.0, 'species': 'versicolor'}\n",
            "{'sepalLength': 5.9, 'sepalWidth': 3.0, 'petalLength': 4.2, 'petalWidth': 1.5, 'species': 'versicolor'}\n",
            "{'sepalLength': 6.0, 'sepalWidth': 2.2, 'petalLength': 4.0, 'petalWidth': 1.0, 'species': 'versicolor'}\n",
            "{'sepalLength': 6.1, 'sepalWidth': 2.9, 'petalLength': 4.7, 'petalWidth': 1.4, 'species': 'versicolor'}\n",
            "{'sepalLength': 5.6, 'sepalWidth': 2.9, 'petalLength': 3.6, 'petalWidth': 1.3, 'species': 'versicolor'}\n",
            "{'sepalLength': 6.7, 'sepalWidth': 3.1, 'petalLength': 4.4, 'petalWidth': 1.4, 'species': 'versicolor'}\n",
            "{'sepalLength': 5.6, 'sepalWidth': 3.0, 'petalLength': 4.5, 'petalWidth': 1.5, 'species': 'versicolor'}\n",
            "{'sepalLength': 5.8, 'sepalWidth': 2.7, 'petalLength': 4.1, 'petalWidth': 1.0, 'species': 'versicolor'}\n",
            "{'sepalLength': 6.2, 'sepalWidth': 2.2, 'petalLength': 4.5, 'petalWidth': 1.5, 'species': 'versicolor'}\n",
            "{'sepalLength': 5.6, 'sepalWidth': 2.5, 'petalLength': 3.9, 'petalWidth': 1.1, 'species': 'versicolor'}\n",
            "{'sepalLength': 5.9, 'sepalWidth': 3.2, 'petalLength': 4.8, 'petalWidth': 1.8, 'species': 'versicolor'}\n",
            "{'sepalLength': 6.1, 'sepalWidth': 2.8, 'petalLength': 4.0, 'petalWidth': 1.3, 'species': 'versicolor'}\n",
            "{'sepalLength': 6.3, 'sepalWidth': 2.5, 'petalLength': 4.9, 'petalWidth': 1.5, 'species': 'versicolor'}\n",
            "{'sepalLength': 6.1, 'sepalWidth': 2.8, 'petalLength': 4.7, 'petalWidth': 1.2, 'species': 'versicolor'}\n",
            "{'sepalLength': 6.4, 'sepalWidth': 2.9, 'petalLength': 4.3, 'petalWidth': 1.3, 'species': 'versicolor'}\n",
            "{'sepalLength': 6.6, 'sepalWidth': 3.0, 'petalLength': 4.4, 'petalWidth': 1.4, 'species': 'versicolor'}\n",
            "{'sepalLength': 6.8, 'sepalWidth': 2.8, 'petalLength': 4.8, 'petalWidth': 1.4, 'species': 'versicolor'}\n",
            "{'sepalLength': 6.7, 'sepalWidth': 3.0, 'petalLength': 5.0, 'petalWidth': 1.7, 'species': 'versicolor'}\n",
            "{'sepalLength': 6.0, 'sepalWidth': 2.9, 'petalLength': 4.5, 'petalWidth': 1.5, 'species': 'versicolor'}\n",
            "{'sepalLength': 5.7, 'sepalWidth': 2.6, 'petalLength': 3.5, 'petalWidth': 1.0, 'species': 'versicolor'}\n",
            "{'sepalLength': 5.5, 'sepalWidth': 2.4, 'petalLength': 3.8, 'petalWidth': 1.1, 'species': 'versicolor'}\n",
            "{'sepalLength': 5.5, 'sepalWidth': 2.4, 'petalLength': 3.7, 'petalWidth': 1.0, 'species': 'versicolor'}\n",
            "{'sepalLength': 5.8, 'sepalWidth': 2.7, 'petalLength': 3.9, 'petalWidth': 1.2, 'species': 'versicolor'}\n",
            "{'sepalLength': 6.0, 'sepalWidth': 2.7, 'petalLength': 5.1, 'petalWidth': 1.6, 'species': 'versicolor'}\n",
            "{'sepalLength': 5.4, 'sepalWidth': 3.0, 'petalLength': 4.5, 'petalWidth': 1.5, 'species': 'versicolor'}\n",
            "{'sepalLength': 6.0, 'sepalWidth': 3.4, 'petalLength': 4.5, 'petalWidth': 1.6, 'species': 'versicolor'}\n",
            "{'sepalLength': 6.7, 'sepalWidth': 3.1, 'petalLength': 4.7, 'petalWidth': 1.5, 'species': 'versicolor'}\n",
            "{'sepalLength': 6.3, 'sepalWidth': 2.3, 'petalLength': 4.4, 'petalWidth': 1.3, 'species': 'versicolor'}\n",
            "{'sepalLength': 5.6, 'sepalWidth': 3.0, 'petalLength': 4.1, 'petalWidth': 1.3, 'species': 'versicolor'}\n",
            "{'sepalLength': 5.5, 'sepalWidth': 2.5, 'petalLength': 4.0, 'petalWidth': 1.3, 'species': 'versicolor'}\n",
            "{'sepalLength': 5.5, 'sepalWidth': 2.6, 'petalLength': 4.4, 'petalWidth': 1.2, 'species': 'versicolor'}\n",
            "{'sepalLength': 6.1, 'sepalWidth': 3.0, 'petalLength': 4.6, 'petalWidth': 1.4, 'species': 'versicolor'}\n",
            "{'sepalLength': 5.8, 'sepalWidth': 2.6, 'petalLength': 4.0, 'petalWidth': 1.2, 'species': 'versicolor'}\n",
            "{'sepalLength': 5.0, 'sepalWidth': 2.3, 'petalLength': 3.3, 'petalWidth': 1.0, 'species': 'versicolor'}\n",
            "{'sepalLength': 5.6, 'sepalWidth': 2.7, 'petalLength': 4.2, 'petalWidth': 1.3, 'species': 'versicolor'}\n",
            "{'sepalLength': 5.7, 'sepalWidth': 3.0, 'petalLength': 4.2, 'petalWidth': 1.2, 'species': 'versicolor'}\n",
            "{'sepalLength': 5.7, 'sepalWidth': 2.9, 'petalLength': 4.2, 'petalWidth': 1.3, 'species': 'versicolor'}\n",
            "{'sepalLength': 6.2, 'sepalWidth': 2.9, 'petalLength': 4.3, 'petalWidth': 1.3, 'species': 'versicolor'}\n",
            "{'sepalLength': 5.1, 'sepalWidth': 2.5, 'petalLength': 3.0, 'petalWidth': 1.1, 'species': 'versicolor'}\n",
            "{'sepalLength': 5.7, 'sepalWidth': 2.8, 'petalLength': 4.1, 'petalWidth': 1.3, 'species': 'versicolor'}\n",
            "{'sepalLength': 6.3, 'sepalWidth': 3.3, 'petalLength': 6.0, 'petalWidth': 2.5, 'species': 'virginica'}\n",
            "{'sepalLength': 5.8, 'sepalWidth': 2.7, 'petalLength': 5.1, 'petalWidth': 1.9, 'species': 'virginica'}\n",
            "{'sepalLength': 7.1, 'sepalWidth': 3.0, 'petalLength': 5.9, 'petalWidth': 2.1, 'species': 'virginica'}\n",
            "{'sepalLength': 6.3, 'sepalWidth': 2.9, 'petalLength': 5.6, 'petalWidth': 1.8, 'species': 'virginica'}\n",
            "{'sepalLength': 6.5, 'sepalWidth': 3.0, 'petalLength': 5.8, 'petalWidth': 2.2, 'species': 'virginica'}\n",
            "{'sepalLength': 7.6, 'sepalWidth': 3.0, 'petalLength': 6.6, 'petalWidth': 2.1, 'species': 'virginica'}\n",
            "{'sepalLength': 4.9, 'sepalWidth': 2.5, 'petalLength': 4.5, 'petalWidth': 1.7, 'species': 'virginica'}\n",
            "{'sepalLength': 7.3, 'sepalWidth': 2.9, 'petalLength': 6.3, 'petalWidth': 1.8, 'species': 'virginica'}\n",
            "{'sepalLength': 6.7, 'sepalWidth': 2.5, 'petalLength': 5.8, 'petalWidth': 1.8, 'species': 'virginica'}\n",
            "{'sepalLength': 7.2, 'sepalWidth': 3.6, 'petalLength': 6.1, 'petalWidth': 2.5, 'species': 'virginica'}\n",
            "{'sepalLength': 6.5, 'sepalWidth': 3.2, 'petalLength': 5.1, 'petalWidth': 2.0, 'species': 'virginica'}\n",
            "{'sepalLength': 6.4, 'sepalWidth': 2.7, 'petalLength': 5.3, 'petalWidth': 1.9, 'species': 'virginica'}\n",
            "{'sepalLength': 6.8, 'sepalWidth': 3.0, 'petalLength': 5.5, 'petalWidth': 2.1, 'species': 'virginica'}\n",
            "{'sepalLength': 5.7, 'sepalWidth': 2.5, 'petalLength': 5.0, 'petalWidth': 2.0, 'species': 'virginica'}\n",
            "{'sepalLength': 5.8, 'sepalWidth': 2.8, 'petalLength': 5.1, 'petalWidth': 2.4, 'species': 'virginica'}\n",
            "{'sepalLength': 6.4, 'sepalWidth': 3.2, 'petalLength': 5.3, 'petalWidth': 2.3, 'species': 'virginica'}\n",
            "{'sepalLength': 6.5, 'sepalWidth': 3.0, 'petalLength': 5.5, 'petalWidth': 1.8, 'species': 'virginica'}\n",
            "{'sepalLength': 7.7, 'sepalWidth': 3.8, 'petalLength': 6.7, 'petalWidth': 2.2, 'species': 'virginica'}\n",
            "{'sepalLength': 7.7, 'sepalWidth': 2.6, 'petalLength': 6.9, 'petalWidth': 2.3, 'species': 'virginica'}\n",
            "{'sepalLength': 6.0, 'sepalWidth': 2.2, 'petalLength': 5.0, 'petalWidth': 1.5, 'species': 'virginica'}\n",
            "{'sepalLength': 6.9, 'sepalWidth': 3.2, 'petalLength': 5.7, 'petalWidth': 2.3, 'species': 'virginica'}\n",
            "{'sepalLength': 5.6, 'sepalWidth': 2.8, 'petalLength': 4.9, 'petalWidth': 2.0, 'species': 'virginica'}\n",
            "{'sepalLength': 7.7, 'sepalWidth': 2.8, 'petalLength': 6.7, 'petalWidth': 2.0, 'species': 'virginica'}\n",
            "{'sepalLength': 6.3, 'sepalWidth': 2.7, 'petalLength': 4.9, 'petalWidth': 1.8, 'species': 'virginica'}\n",
            "{'sepalLength': 6.7, 'sepalWidth': 3.3, 'petalLength': 5.7, 'petalWidth': 2.1, 'species': 'virginica'}\n",
            "{'sepalLength': 7.2, 'sepalWidth': 3.2, 'petalLength': 6.0, 'petalWidth': 1.8, 'species': 'virginica'}\n",
            "{'sepalLength': 6.2, 'sepalWidth': 2.8, 'petalLength': 4.8, 'petalWidth': 1.8, 'species': 'virginica'}\n",
            "{'sepalLength': 6.1, 'sepalWidth': 3.0, 'petalLength': 4.9, 'petalWidth': 1.8, 'species': 'virginica'}\n",
            "{'sepalLength': 6.4, 'sepalWidth': 2.8, 'petalLength': 5.6, 'petalWidth': 2.1, 'species': 'virginica'}\n",
            "{'sepalLength': 7.2, 'sepalWidth': 3.0, 'petalLength': 5.8, 'petalWidth': 1.6, 'species': 'virginica'}\n",
            "{'sepalLength': 7.4, 'sepalWidth': 2.8, 'petalLength': 6.1, 'petalWidth': 1.9, 'species': 'virginica'}\n",
            "{'sepalLength': 7.9, 'sepalWidth': 3.8, 'petalLength': 6.4, 'petalWidth': 2.0, 'species': 'virginica'}\n",
            "{'sepalLength': 6.4, 'sepalWidth': 2.8, 'petalLength': 5.6, 'petalWidth': 2.2, 'species': 'virginica'}\n",
            "{'sepalLength': 6.3, 'sepalWidth': 2.8, 'petalLength': 5.1, 'petalWidth': 1.5, 'species': 'virginica'}\n",
            "{'sepalLength': 6.1, 'sepalWidth': 2.6, 'petalLength': 5.6, 'petalWidth': 1.4, 'species': 'virginica'}\n",
            "{'sepalLength': 7.7, 'sepalWidth': 3.0, 'petalLength': 6.1, 'petalWidth': 2.3, 'species': 'virginica'}\n",
            "{'sepalLength': 6.3, 'sepalWidth': 3.4, 'petalLength': 5.6, 'petalWidth': 2.4, 'species': 'virginica'}\n",
            "{'sepalLength': 6.4, 'sepalWidth': 3.1, 'petalLength': 5.5, 'petalWidth': 1.8, 'species': 'virginica'}\n",
            "{'sepalLength': 6.0, 'sepalWidth': 3.0, 'petalLength': 4.8, 'petalWidth': 1.8, 'species': 'virginica'}\n",
            "{'sepalLength': 6.9, 'sepalWidth': 3.1, 'petalLength': 5.4, 'petalWidth': 2.1, 'species': 'virginica'}\n",
            "{'sepalLength': 6.7, 'sepalWidth': 3.1, 'petalLength': 5.6, 'petalWidth': 2.4, 'species': 'virginica'}\n",
            "{'sepalLength': 6.9, 'sepalWidth': 3.1, 'petalLength': 5.1, 'petalWidth': 2.3, 'species': 'virginica'}\n",
            "{'sepalLength': 5.8, 'sepalWidth': 2.7, 'petalLength': 5.1, 'petalWidth': 1.9, 'species': 'virginica'}\n",
            "{'sepalLength': 6.8, 'sepalWidth': 3.2, 'petalLength': 5.9, 'petalWidth': 2.3, 'species': 'virginica'}\n",
            "{'sepalLength': 6.7, 'sepalWidth': 3.3, 'petalLength': 5.7, 'petalWidth': 2.5, 'species': 'virginica'}\n",
            "{'sepalLength': 6.7, 'sepalWidth': 3.0, 'petalLength': 5.2, 'petalWidth': 2.3, 'species': 'virginica'}\n",
            "{'sepalLength': 6.3, 'sepalWidth': 2.5, 'petalLength': 5.0, 'petalWidth': 1.9, 'species': 'virginica'}\n",
            "{'sepalLength': 6.5, 'sepalWidth': 3.0, 'petalLength': 5.2, 'petalWidth': 2.0, 'species': 'virginica'}\n",
            "{'sepalLength': 6.2, 'sepalWidth': 3.4, 'petalLength': 5.4, 'petalWidth': 2.3, 'species': 'virginica'}\n",
            "{'sepalLength': 5.9, 'sepalWidth': 3.0, 'petalLength': 5.1, 'petalWidth': 1.8, 'species': 'virginica'}\n",
            "Processed a total of 150 messages\n"
          ]
        }
      ]
    },
    {
      "cell_type": "code",
      "source": [
        "!wget \"https://repo1.maven.org/maven2/org/apache/spark/spark-streaming-kafka-0-10-assembly_2.12/3.0.1/spark-streaming-kafka-0-10-assembly_2.12-3.0.1.jar\""
      ],
      "metadata": {
        "id": "mUH4uwNk0n_X"
      },
      "execution_count": null,
      "outputs": []
    },
    {
      "cell_type": "code",
      "source": [
        "os.environ[\"SPARK_HOME\"] = \"/usr/local/bin/pyspark\"\n",
        "os.environ['PYSPARK_SUBMIT_ARGS'] = '--jars /content/spark-streaming-kafka-0-10-assembly_2.12-3.0.1.jar pyspark-shell'"
      ],
      "metadata": {
        "id": "7d8TV7fV0_J9"
      },
      "execution_count": null,
      "outputs": []
    },
    {
      "cell_type": "code",
      "source": [
        "!ls /content"
      ],
      "metadata": {
        "id": "iN5fa0WT1nej"
      },
      "execution_count": null,
      "outputs": []
    },
    {
      "cell_type": "code",
      "source": [
        "!which pyspark"
      ],
      "metadata": {
        "id": "V3fOqJD21WDP"
      },
      "execution_count": null,
      "outputs": []
    },
    {
      "cell_type": "code",
      "source": [
        "import findspark\n",
        "findspark.init()"
      ],
      "metadata": {
        "id": "SyZGpeAF1Mp2"
      },
      "execution_count": null,
      "outputs": []
    },
    {
      "cell_type": "code",
      "source": [
        "from pyspark.sql import functions as F\n",
        "\n",
        "from pyspark.sql import SparkSession\n",
        "spark = SparkSession.builder.master(\"local[*]\").config(\"spark.jars.packages\", \"org.apache.spark:spark-sql-kafka-0-10_2.12:3.0.1\").getOrCreate()\n",
        "spark.conf.set(\"spark.sql.repl.eagerEval.enabled\", True) \n",
        "\n",
        "kafka_brokers = \"127.0.0.1:9092\""
      ],
      "metadata": {
        "id": "hz45gbf6qsBS"
      },
      "execution_count": null,
      "outputs": []
    },
    {
      "cell_type": "code",
      "source": [
        "spark.version"
      ],
      "metadata": {
        "id": "BglW_VzT0eBw"
      },
      "execution_count": null,
      "outputs": []
    },
    {
      "cell_type": "code",
      "source": [
        "raw_data = spark.read. \\\n",
        "    format(\"kafka\"). \\\n",
        "    option(\"kafka.bootstrap.servers\", kafka_brokers). \\\n",
        "    option(\"subscribe\", \"shadrin_iris\"). \\\n",
        "    option(\"startingOffsets\", \"earliest\"). \\\n",
        "    option(\"endingOffsets\", \"\"\"{\"shadrin_iris\":{\"0\":20}}\"\"\"). \\\n",
        "    load()"
      ],
      "metadata": {
        "id": "bHW8h34crhJp"
      },
      "execution_count": null,
      "outputs": []
    },
    {
      "cell_type": "markdown",
      "metadata": {
        "id": "bjCy3zaCQJ7-"
      },
      "source": [
        "## SUSY Dataset\n",
        "\n",
        "Kafka being an event streaming platform, enables  data from various sources to be written into it. For instance:\n",
        "\n",
        "- Web traffic logs\n",
        "- Astronomical measurements\n",
        "- IoT sensor data\n",
        "- Product reviews and many more.\n",
        "\n",
        "For the purpose of this tutorial, lets download the [SUSY](https://archive.ics.uci.edu/ml/datasets/SUSY#) dataset and feed the data into kafka manually. The goal of this classification problem is to distinguish between a signal process which produces supersymmetric particles and a background process which does not.\n"
      ]
    },
    {
      "cell_type": "code",
      "execution_count": null,
      "metadata": {
        "id": "emslB2EGQMCR"
      },
      "outputs": [],
      "source": [
        "!curl -sSOL https://archive.ics.uci.edu/ml/machine-learning-databases/00279/SUSY.csv.gz"
      ]
    },
    {
      "cell_type": "markdown",
      "metadata": {
        "id": "4CfKVmCvwcL7"
      },
      "source": [
        "### Explore the dataset"
      ]
    },
    {
      "cell_type": "markdown",
      "metadata": {
        "id": "18aR_MsOKToc"
      },
      "source": [
        "The first column is the class label (1 for signal, 0 for background), followed by the 18 features (8 low-level features then 10 high-level features).\n",
        "The first 8 features are kinematic properties measured by the particle detectors in the accelerator. The last 10 features are functions of the first 8 features. These are high-level features derived by physicists to help discriminate between the two classes."
      ]
    },
    {
      "cell_type": "code",
      "execution_count": null,
      "metadata": {
        "id": "XkXyocIdKRSB"
      },
      "outputs": [],
      "source": [
        "COLUMNS = [\n",
        "          #  labels\n",
        "           'class',\n",
        "          #  low-level features\n",
        "           'lepton_1_pT',\n",
        "           'lepton_1_eta',\n",
        "           'lepton_1_phi',\n",
        "           'lepton_2_pT',\n",
        "           'lepton_2_eta',\n",
        "           'lepton_2_phi',\n",
        "           'missing_energy_magnitude',\n",
        "           'missing_energy_phi',\n",
        "          #  high-level derived features\n",
        "           'MET_rel',\n",
        "           'axial_MET',\n",
        "           'M_R',\n",
        "           'M_TR_2',\n",
        "           'R',\n",
        "           'MT2',\n",
        "           'S_R',\n",
        "           'M_Delta_R',\n",
        "           'dPhi_r_b',\n",
        "           'cos(theta_r1)'\n",
        "           ]"
      ]
    },
    {
      "cell_type": "markdown",
      "metadata": {
        "id": "q0NBA51_1Ie2"
      },
      "source": [
        "The entire dataset consists of 5 million rows. However, for the purpose of this tutorial, let's consider only a fraction of the dataset (100,000 rows) so that less time is spent on the moving the data and more time on understanding the functionality of the api."
      ]
    },
    {
      "cell_type": "code",
      "execution_count": null,
      "metadata": {
        "id": "nC-yt_c9u0sH"
      },
      "outputs": [],
      "source": [
        "susy_iterator = pd.read_csv('SUSY.csv.gz', header=None, names=COLUMNS, chunksize=100000)\n",
        "susy_df = next(susy_iterator)\n",
        "susy_df.head()"
      ]
    },
    {
      "cell_type": "code",
      "execution_count": null,
      "metadata": {
        "id": "AlNuW7xbu6o8"
      },
      "outputs": [],
      "source": [
        "# Number of datapoints and columns\n",
        "len(susy_df), len(susy_df.columns)"
      ]
    },
    {
      "cell_type": "code",
      "execution_count": null,
      "metadata": {
        "id": "c6Cg22bU0-na"
      },
      "outputs": [],
      "source": [
        "# Number of datapoints belonging to each class (0: background noise, 1: signal)\n",
        "len(susy_df[susy_df[\"class\"]==0]), len(susy_df[susy_df[\"class\"]==1])"
      ]
    },
    {
      "cell_type": "markdown",
      "metadata": {
        "id": "tF5K9xtmlT2P"
      },
      "source": [
        "### Split the dataset\n"
      ]
    },
    {
      "cell_type": "code",
      "execution_count": null,
      "metadata": {
        "id": "n-ku_X0Wld59"
      },
      "outputs": [],
      "source": [
        "train_df, test_df = train_test_split(susy_df, test_size=0.4, shuffle=True)\n",
        "print(\"Number of training samples: \",len(train_df))\n",
        "print(\"Number of testing sample: \",len(test_df))\n",
        "\n",
        "x_train_df = train_df.drop([\"class\"], axis=1)\n",
        "y_train_df = train_df[\"class\"]\n",
        "\n",
        "x_test_df = test_df.drop([\"class\"], axis=1)\n",
        "y_test_df = test_df[\"class\"]\n",
        "\n",
        "# The labels are set as the kafka message keys so as to store data\n",
        "# in multiple-partitions. Thus, enabling efficient data retrieval\n",
        "# using the consumer groups.\n",
        "x_train = list(filter(None, x_train_df.to_csv(index=False).split(\"\\n\")[1:]))\n",
        "y_train = list(filter(None, y_train_df.to_csv(index=False).split(\"\\n\")[1:]))\n",
        "\n",
        "x_test = list(filter(None, x_test_df.to_csv(index=False).split(\"\\n\")[1:]))\n",
        "y_test = list(filter(None, y_test_df.to_csv(index=False).split(\"\\n\")[1:]))\n"
      ]
    },
    {
      "cell_type": "code",
      "execution_count": null,
      "metadata": {
        "id": "YHXk0x2MXVgL"
      },
      "outputs": [],
      "source": [
        "NUM_COLUMNS = len(x_train_df.columns)\n",
        "len(x_train), len(y_train), len(x_test), len(y_test)"
      ]
    },
    {
      "cell_type": "markdown",
      "metadata": {
        "id": "wwP5U4GqmhoL"
      },
      "source": [
        "### Store the train and test data in kafka\n",
        "\n",
        "Storing the data in kafka simulates an environment for continuous remote data retrieval for training and inference purposes."
      ]
    },
    {
      "cell_type": "code",
      "execution_count": null,
      "metadata": {
        "id": "YhwFImSqncLE"
      },
      "outputs": [],
      "source": [
        "def error_callback(exc):\n",
        "    raise Exception('Error while sendig data to kafka: {0}'.format(str(exc)))\n",
        "\n",
        "def write_to_kafka(topic_name, items):\n",
        "  count=0\n",
        "  producer = KafkaProducer(bootstrap_servers=['127.0.0.1:9092'])\n",
        "  for message, key in items:\n",
        "    producer.send(topic_name, key=key.encode('utf-8'), value=message.encode('utf-8')).add_errback(error_callback)\n",
        "    count+=1\n",
        "  producer.flush()\n",
        "  print(\"Wrote {0} messages into topic: {1}\".format(count, topic_name))\n",
        "\n",
        "write_to_kafka(\"susy-train\", zip(x_train, y_train))\n",
        "write_to_kafka(\"susy-test\", zip(x_test, y_test))\n"
      ]
    },
    {
      "cell_type": "markdown",
      "metadata": {
        "id": "58q52py93jEf"
      },
      "source": [
        "### Define the tfio train dataset\n",
        "\n",
        "The `IODataset` class is utilized for streaming data from kafka into tensorflow. The class inherits from `tf.data.Dataset` and thus has all the useful functionalities of `tf.data.Dataset` out of the box.\n"
      ]
    },
    {
      "cell_type": "code",
      "execution_count": null,
      "metadata": {
        "id": "HHOcitbW2_d1"
      },
      "outputs": [],
      "source": [
        "def decode_kafka_item(item):\n",
        "  message = tf.io.decode_csv(item.message, [[0.0] for i in range(NUM_COLUMNS)])\n",
        "  key = tf.strings.to_number(item.key)\n",
        "  return (message, key)\n",
        "\n",
        "BATCH_SIZE=64\n",
        "SHUFFLE_BUFFER_SIZE=64\n",
        "train_ds = tfio.IODataset.from_kafka('susy-train', partition=0, offset=0)\n",
        "train_ds = train_ds.shuffle(buffer_size=SHUFFLE_BUFFER_SIZE)\n",
        "train_ds = train_ds.map(decode_kafka_item)\n",
        "train_ds = train_ds.batch(BATCH_SIZE)"
      ]
    },
    {
      "cell_type": "markdown",
      "metadata": {
        "id": "x84lZJY164RI"
      },
      "source": [
        "## Build and train the model\n"
      ]
    },
    {
      "cell_type": "code",
      "execution_count": null,
      "metadata": {
        "id": "uuHtpAMqLqmv"
      },
      "outputs": [],
      "source": [
        "# Set the parameters\n",
        "\n",
        "OPTIMIZER=\"adam\"\n",
        "LOSS=tf.keras.losses.BinaryCrossentropy(from_logits=True)\n",
        "METRICS=['accuracy']\n",
        "EPOCHS=10\n"
      ]
    },
    {
      "cell_type": "code",
      "execution_count": null,
      "metadata": {
        "id": "7lBmxxuj63jZ"
      },
      "outputs": [],
      "source": [
        "# design/build the model\n",
        "model = tf.keras.Sequential([\n",
        "  tf.keras.layers.Input(shape=(NUM_COLUMNS,)),\n",
        "  tf.keras.layers.Dense(128, activation='relu'),\n",
        "  tf.keras.layers.Dropout(0.2),\n",
        "  tf.keras.layers.Dense(256, activation='relu'),\n",
        "  tf.keras.layers.Dropout(0.4),\n",
        "  tf.keras.layers.Dense(128, activation='relu'),\n",
        "  tf.keras.layers.Dropout(0.4),\n",
        "  tf.keras.layers.Dense(1, activation='sigmoid')\n",
        "])\n",
        "\n",
        "print(model.summary())"
      ]
    },
    {
      "cell_type": "code",
      "execution_count": null,
      "metadata": {
        "id": "LTDFVxpSLfXI"
      },
      "outputs": [],
      "source": [
        "# compile the model\n",
        "model.compile(optimizer=OPTIMIZER, loss=LOSS, metrics=METRICS)"
      ]
    },
    {
      "cell_type": "code",
      "execution_count": null,
      "metadata": {
        "id": "SIJMg-saLgeR"
      },
      "outputs": [],
      "source": [
        "# fit the model\n",
        "model.fit(train_ds, epochs=EPOCHS)"
      ]
    },
    {
      "cell_type": "markdown",
      "metadata": {
        "id": "ZPy0Ka21QII5"
      },
      "source": [
        "Note: Please do not confuse the training step with online training. It's an entirely different paradigm which will be covered in a later section.\n",
        "\n",
        "Since only a fraction of the dataset is being utilized, our accuracy is limited to ~78% during the training phase. However, please feel free to store additional data in kafka for a better model performance. Also, since the goal was to just demonstrate the functionality of the tfio kafka datasets, a smaller and less-complicated neural network was used. However, one can increase the complexity of the model, modify the learning strategy, tune hyper-parameters etc for exploration purposes. For a baseline approach, please refer to this [article](https://www.nature.com/articles/ncomms5308#Sec11)."
      ]
    },
    {
      "cell_type": "markdown",
      "metadata": {
        "id": "XYJW8za2qm4c"
      },
      "source": [
        "## Infer on the test data\n",
        "\n",
        "To infer on the test data by adhering to the 'exactly-once' semantics along with fault-tolerance, the `streaming.KafkaGroupIODataset` can be utilized. \n"
      ]
    },
    {
      "cell_type": "markdown",
      "metadata": {
        "id": "w3FZOlSh2pmy"
      },
      "source": [
        "### Define the tfio test dataset\n",
        "\n",
        "The `stream_timeout` parameter blocks for the given duration for new data points to be streamed into the topic. This removes the need for creating new datasets if the data is being streamed into the topic in an intermittent fashion."
      ]
    },
    {
      "cell_type": "code",
      "execution_count": null,
      "metadata": {
        "id": "wjnM81lPROen"
      },
      "outputs": [],
      "source": [
        "test_ds = tfio.experimental.streaming.KafkaGroupIODataset(\n",
        "    topics=[\"susy-test\"],\n",
        "    group_id=\"testcg\",\n",
        "    servers=\"127.0.0.1:9092\",\n",
        "    stream_timeout=10000,\n",
        "    configuration=[\n",
        "        \"session.timeout.ms=7000\",\n",
        "        \"max.poll.interval.ms=8000\",\n",
        "        \"auto.offset.reset=earliest\"\n",
        "    ],\n",
        ")\n",
        "\n",
        "def decode_kafka_test_item(raw_message, raw_key):\n",
        "  message = tf.io.decode_csv(raw_message, [[0.0] for i in range(NUM_COLUMNS)])\n",
        "  key = tf.strings.to_number(raw_key)\n",
        "  return (message, key)\n",
        "\n",
        "test_ds = test_ds.map(decode_kafka_test_item)\n",
        "test_ds = test_ds.batch(BATCH_SIZE)"
      ]
    },
    {
      "cell_type": "markdown",
      "metadata": {
        "id": "cg8j3bZsSF6u"
      },
      "source": [
        "Though this class can be used for training purposes, there are caveats which need to be addressed. Once all the messages are read from kafka and the latest offsets are committed using the `streaming.KafkaGroupIODataset`, the consumer doesn't restart reading the messages from the beginning. Thus, while training, it is possible only to train for a single epoch with the data continuously flowing in. This kind of a functionality has limited use cases during the training phase wherein, once a datapoint has been consumed by the model it is no longer required and can be discarded.\n",
        "\n",
        "However, this functionality shines when it comes to robust inference with exactly-once semantics."
      ]
    },
    {
      "cell_type": "markdown",
      "metadata": {
        "id": "2PapN5Q_241k"
      },
      "source": [
        "### evaluate the performance on the test data\n"
      ]
    },
    {
      "cell_type": "code",
      "execution_count": null,
      "metadata": {
        "id": "6hMtIe1X215P"
      },
      "outputs": [],
      "source": [
        "res = model.evaluate(test_ds)\n",
        "print(\"test loss, test acc:\", res)\n"
      ]
    },
    {
      "cell_type": "markdown",
      "metadata": {
        "id": "mWX9j11bWJGe"
      },
      "source": [
        "Since the inference is based on 'exactly-once' semantics, the evaluation on the test set can be run only once. In order to run the inference again on the test data, a new consumer group should be used."
      ]
    },
    {
      "cell_type": "markdown",
      "metadata": {
        "id": "95Chcbd9xThl"
      },
      "source": [
        "### Track the offset lag of the `testcg` consumer group"
      ]
    },
    {
      "cell_type": "code",
      "execution_count": null,
      "metadata": {
        "id": "9uz3km0RxUG7"
      },
      "outputs": [],
      "source": [
        "!./kafka_2.13-2.7.2/bin/kafka-consumer-groups.sh --bootstrap-server 127.0.0.1:9092 --describe --group testcg\n"
      ]
    },
    {
      "cell_type": "markdown",
      "metadata": {
        "id": "I8Wg0_eXMKL9"
      },
      "source": [
        "Once the `current-offset` matches the `log-end-offset` for all the partitions, it indicates that the consumer(s) have completed fetching all the messages from the kafka topic."
      ]
    },
    {
      "cell_type": "markdown",
      "metadata": {
        "id": "TYwillcxP97z"
      },
      "source": [
        "## Online learning\n",
        "\n",
        "The online machine learning paradigm is a bit different from the traditional/conventional way of training machine learning models. In the former case, the model continues to incrementally learn/update it's parameters as soon as the new data points are available and this process is expected to continue indefinitely. This is unlike the latter approaches where the dataset is fixed and the model iterates over it `n` number of times. In online learning, the data once consumed by the model may not be available for training again.\n",
        "\n",
        "By utilizing the `streaming.KafkaBatchIODataset`, it is now possible to train the models in this fashion. Let's continue to use our SUSY dataset for demonstrating this functionality."
      ]
    },
    {
      "cell_type": "markdown",
      "metadata": {
        "id": "r5HyQtUZXi_P"
      },
      "source": [
        "### The tfio training dataset for online learning\n",
        "\n",
        "The `streaming.KafkaBatchIODataset` is similar to the `streaming.KafkaGroupIODataset` in it's API. Additionally, it is recommended to utilize the `stream_timeout` parameter to configure the duration for which the dataset will block for new messages before timing out. In the instance below, the dataset is configured with a `stream_timeout` of `10000` milliseconds. This implies that, after all the messages from the topic have been consumed, the dataset will wait for an additional 10 seconds before timing out and disconnecting from the kafka cluster. If new messages are streamed into the topic before timing out, the data consumption and model training resumes for those newly consumed data points. To block indefinitely, set it to `-1`."
      ]
    },
    {
      "cell_type": "code",
      "execution_count": null,
      "metadata": {
        "id": "m-zCHNOuSJDL"
      },
      "outputs": [],
      "source": [
        "online_train_ds = tfio.experimental.streaming.KafkaBatchIODataset(\n",
        "    topics=[\"susy-train\"],\n",
        "    group_id=\"cgonline\",\n",
        "    servers=\"127.0.0.1:9092\",\n",
        "    stream_timeout=10000, # in milliseconds, to block indefinitely, set it to -1.\n",
        "    configuration=[\n",
        "        \"session.timeout.ms=7000\",\n",
        "        \"max.poll.interval.ms=8000\",\n",
        "        \"auto.offset.reset=earliest\"\n",
        "    ],\n",
        ")"
      ]
    },
    {
      "cell_type": "markdown",
      "metadata": {
        "id": "lgSCn5dskO0t"
      },
      "source": [
        "Every item that the `online_train_ds` generates is a `tf.data.Dataset` in itself. Thus, all the standard transformations can be applied as usual.\n"
      ]
    },
    {
      "cell_type": "code",
      "execution_count": null,
      "metadata": {
        "id": "9cxF0bgGkQJs"
      },
      "outputs": [],
      "source": [
        "def decode_kafka_online_item(raw_message, raw_key):\n",
        "  message = tf.io.decode_csv(raw_message, [[0.0] for i in range(NUM_COLUMNS)])\n",
        "  key = tf.strings.to_number(raw_key)\n",
        "  return (message, key)\n",
        "  \n",
        "for mini_ds in online_train_ds:\n",
        "  mini_ds = mini_ds.shuffle(buffer_size=32)\n",
        "  mini_ds = mini_ds.map(decode_kafka_online_item)\n",
        "  mini_ds = mini_ds.batch(32)\n",
        "  if len(mini_ds) > 0:\n",
        "    model.fit(mini_ds, epochs=3)"
      ]
    },
    {
      "cell_type": "markdown",
      "metadata": {
        "id": "IGph8eP9isuW"
      },
      "source": [
        "The incrementally trained model can be saved in a periodic fashion (based on use-cases) and can be utilized to infer on the test data in either online or offline modes.\n",
        "\n",
        "Note: The `streaming.KafkaBatchIODataset` and `streaming.KafkaGroupIODataset` are still in experimental phase and have scope for improvements based on user-feedback."
      ]
    },
    {
      "cell_type": "markdown",
      "metadata": {
        "id": "P8QAS_3k1y3u"
      },
      "source": [
        "## References:\n",
        "\n",
        "- Baldi, P., P. Sadowski, and D. Whiteson. “Searching for Exotic Particles in High-energy Physics with Deep Learning.” Nature Communications 5 (July 2, 2014)\n",
        "\n",
        "- SUSY Dataset: https://archive.ics.uci.edu/ml/datasets/SUSY#\n"
      ]
    }
  ],
  "metadata": {
    "colab": {
      "collapsed_sections": [],
      "name": "3 Spark Streaming.ipynb",
      "provenance": []
    },
    "kernelspec": {
      "display_name": "Python 3",
      "name": "python3"
    }
  },
  "nbformat": 4,
  "nbformat_minor": 0
}